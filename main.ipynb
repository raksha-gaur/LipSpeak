{
 "cells": [
  {
   "cell_type": "markdown",
   "id": "e0f6eeef",
   "metadata": {},
   "source": [
    "# Install and import dependencies"
   ]
  },
  {
   "cell_type": "code",
   "execution_count": 1,
   "id": "9fa7d8ec",
   "metadata": {},
   "outputs": [
    {
     "name": "stdout",
     "output_type": "stream",
     "text": [
      "Package                      Version\n",
      "---------------------------- -----------\n",
      "absl-py                      1.4.0\n",
      "altair                       5.1.2\n",
      "anaconda                     0.0.1.1\n",
      "annotated-types              0.5.0\n",
      "argon2-cffi                  21.3.0\n",
      "argon2-cffi-bindings         21.2.0\n",
      "asgiref                      3.6.0\n",
      "asttokens                    2.0.7\n",
      "astunparse                   1.6.3\n",
      "attrs                        22.1.0\n",
      "backcall                     0.2.0\n",
      "beautifulsoup4               4.11.1\n",
      "bleach                       5.0.1\n",
      "blinker                      1.7.0\n",
      "blis                         0.7.10\n",
      "cachetools                   5.3.1\n",
      "catalogue                    2.0.9\n",
      "certifi                      2023.5.7\n",
      "cffi                         1.15.1\n",
      "charset-normalizer           3.1.0\n",
      "click                        8.1.3\n",
      "cmake                        3.27.4.1\n",
      "colorama                     0.4.6\n",
      "comtypes                     1.2.0\n",
      "confection                   0.1.3\n",
      "contourpy                    1.0.5\n",
      "cycler                       0.11.0\n",
      "cymem                        2.0.7\n",
      "debugpy                      1.6.2\n",
      "decorator                    5.1.1\n",
      "defusedxml                   0.7.1\n",
      "Django                       4.2.3\n",
      "en-core-web-sm               3.6.0\n",
      "entrypoints                  0.4\n",
      "et-xmlfile                   1.1.0\n",
      "executing                    0.9.1\n",
      "fastjsonschema               2.16.1\n",
      "filelock                     3.12.4\n",
      "Flask                        2.2.2\n",
      "flatbuffers                  23.5.26\n",
      "fonttools                    4.37.2\n",
      "fsspec                       2023.9.2\n",
      "gast                         0.4.0\n",
      "gdown                        4.6.0\n",
      "gitdb                        4.0.11\n",
      "GitPython                    3.1.40\n",
      "google-auth                  2.20.0\n",
      "google-auth-oauthlib         0.4.6\n",
      "google-pasta                 0.2.0\n",
      "grpcio                       1.56.0\n",
      "h5py                         3.9.0\n",
      "huggingface-hub              0.17.3\n",
      "idna                         3.4\n",
      "imageio                      2.23.0\n",
      "importlib-metadata           6.8.0\n",
      "ipykernel                    6.15.1\n",
      "ipython                      8.4.0\n",
      "ipython-genutils             0.2.0\n",
      "ipywidgets                   7.7.1\n",
      "itsdangerous                 2.1.2\n",
      "jax                          0.4.13\n",
      "jedi                         0.18.1\n",
      "Jinja2                       3.1.2\n",
      "joblib                       1.2.0\n",
      "jsonschema                   4.9.1\n",
      "jupyter                      1.0.0\n",
      "jupyter-client               7.3.4\n",
      "jupyter-console              6.4.4\n",
      "jupyter-core                 4.11.1\n",
      "jupyterlab-pygments          0.2.2\n",
      "jupyterlab-widgets           1.1.1\n",
      "keras                        2.10.0\n",
      "Keras-Preprocessing          1.1.2\n",
      "kiwisolver                   1.4.4\n",
      "langcodes                    3.3.0\n",
      "libclang                     16.0.0\n",
      "Markdown                     3.4.3\n",
      "markdown-it-py               3.0.0\n",
      "MarkupSafe                   2.1.1\n",
      "matplotlib                   3.6.2\n",
      "matplotlib-inline            0.1.3\n",
      "mdurl                        0.1.2\n",
      "mistune                      0.8.4\n",
      "ml-dtypes                    0.2.0\n",
      "murmurhash                   1.0.9\n",
      "mysql-connector-python       8.0.31\n",
      "nbclient                     0.6.6\n",
      "nbconvert                    6.5.0\n",
      "nbformat                     5.4.0\n",
      "nest-asyncio                 1.5.5\n",
      "nltk                         3.8.1\n",
      "notebook                     6.4.12\n",
      "numpy                        1.23.3\n",
      "oauthlib                     3.2.2\n",
      "opencv-python                4.6.0.66\n",
      "openpyxl                     3.0.10\n",
      "opt-einsum                   3.3.0\n",
      "packaging                    21.3\n",
      "pandas                       1.4.4\n",
      "pandocfilters                1.5.0\n",
      "parso                        0.8.3\n",
      "pathy                        0.10.2\n",
      "pickleshare                  0.7.5\n",
      "Pillow                       9.2.0\n",
      "pip                          23.1.2\n",
      "preshed                      3.0.8\n",
      "prometheus-client            0.14.1\n",
      "prompt-toolkit               3.0.30\n",
      "protobuf                     3.19.6\n",
      "psutil                       5.9.1\n",
      "pure-eval                    0.2.2\n",
      "pyarrow                      14.0.0\n",
      "pyasn1                       0.5.0\n",
      "pyasn1-modules               0.3.0\n",
      "PyAudio                      0.2.13\n",
      "pycparser                    2.21\n",
      "pydantic                     2.3.0\n",
      "pydantic_core                2.6.3\n",
      "pydeck                       0.8.1b0\n",
      "Pygments                     2.16.1\n",
      "pyparsing                    3.0.9\n",
      "pypiwin32                    223\n",
      "pyrsistent                   0.18.1\n",
      "PySocks                      1.7.1\n",
      "python-dateutil              2.8.2\n",
      "pyttsx3                      2.90\n",
      "pytz                         2022.2.1\n",
      "PyWavelets                   1.4.1\n",
      "pywin32                      304\n",
      "pywinpty                     2.0.7\n",
      "PyYAML                       6.0.1\n",
      "pyzmq                        23.2.0\n",
      "qtconsole                    5.3.1\n",
      "QtPy                         2.1.0\n",
      "regex                        2023.8.8\n",
      "requests                     2.31.0\n",
      "requests-oauthlib            1.3.1\n",
      "rich                         13.6.0\n",
      "rsa                          4.9\n",
      "safetensors                  0.4.0\n",
      "scikit-learn                 1.1.2\n",
      "scipy                        1.9.1\n",
      "seaborn                      0.12.2\n",
      "Send2Trash                   1.8.0\n",
      "setuptools                   58.1.0\n",
      "six                          1.16.0\n",
      "sklearn                      0.0.post1\n",
      "smart-open                   6.4.0\n",
      "smmap                        5.0.1\n",
      "soupsieve                    2.3.2.post1\n",
      "spacy                        3.6.1\n",
      "spacy-legacy                 3.0.12\n",
      "spacy-loggers                1.0.4\n",
      "sqlparse                     0.4.3\n",
      "srsly                        2.4.7\n",
      "stack-data                   0.3.0\n",
      "streamlit                    1.28.1\n",
      "tenacity                     8.2.3\n",
      "tensorboard                  2.10.1\n",
      "tensorboard-data-server      0.6.1\n",
      "tensorboard-plugin-wit       1.8.1\n",
      "tensorflow                   2.10.1\n",
      "tensorflow-estimator         2.10.0\n",
      "tensorflow-intel             2.12.0\n",
      "tensorflow-io-gcs-filesystem 0.31.0\n",
      "termcolor                    2.3.0\n",
      "terminado                    0.15.0\n",
      "thinc                        8.1.12\n",
      "threadpoolctl                3.1.0\n",
      "tinycss2                     1.1.1\n",
      "tokenizers                   0.14.1\n",
      "toml                         0.10.2\n",
      "toolz                        0.12.0\n",
      "torch                        1.12.0\n",
      "tornado                      6.2\n",
      "tqdm                         4.66.1\n",
      "traitlets                    5.3.0\n",
      "transformers                 4.34.0\n",
      "typer                        0.9.0\n",
      "typing_extensions            4.6.3\n",
      "tzdata                       2023.3\n",
      "tzlocal                      5.2\n",
      "urllib3                      1.26.16\n",
      "validators                   0.22.0\n",
      "wasabi                       1.1.2\n",
      "watchdog                     3.0.0\n",
      "wcwidth                      0.2.5\n",
      "webencodings                 0.5.1\n",
      "Werkzeug                     2.2.2\n",
      "wheel                        0.40.0\n",
      "widgetsnbextension           3.6.1\n",
      "wrapt                        1.14.1\n",
      "zipp                         3.17.0\n"
     ]
    },
    {
     "name": "stderr",
     "output_type": "stream",
     "text": [
      "WARNING: Ignoring invalid distribution -rotobuf (c:\\users\\raksh\\appdata\\local\\programs\\python\\python310\\lib\\site-packages)\n",
      "\n",
      "[notice] A new release of pip is available: 23.1.2 -> 23.3.1\n",
      "[notice] To update, run: python.exe -m pip install --upgrade pip\n"
     ]
    }
   ],
   "source": [
    "!pip list"
   ]
  },
  {
   "cell_type": "code",
   "execution_count": 2,
   "id": "9590906e",
   "metadata": {},
   "outputs": [
    {
     "name": "stdout",
     "output_type": "stream",
     "text": [
      "Requirement already satisfied: opencv-python in c:\\users\\raksh\\appdata\\local\\programs\\python\\python310\\lib\\site-packages (4.6.0.66)\n",
      "Requirement already satisfied: matplotlib in c:\\users\\raksh\\appdata\\local\\programs\\python\\python310\\lib\\site-packages (3.6.2)\n",
      "Requirement already satisfied: imageio in c:\\users\\raksh\\appdata\\local\\programs\\python\\python310\\lib\\site-packages (2.23.0)\n",
      "Requirement already satisfied: gdown in c:\\users\\raksh\\appdata\\local\\programs\\python\\python310\\lib\\site-packages (4.6.0)\n",
      "Requirement already satisfied: tensorflow in c:\\users\\raksh\\appdata\\local\\programs\\python\\python310\\lib\\site-packages (2.10.1)\n",
      "Requirement already satisfied: numpy>=1.21.2 in c:\\users\\raksh\\appdata\\local\\programs\\python\\python310\\lib\\site-packages (from opencv-python) (1.23.3)\n",
      "Requirement already satisfied: contourpy>=1.0.1 in c:\\users\\raksh\\appdata\\local\\programs\\python\\python310\\lib\\site-packages (from matplotlib) (1.0.5)\n",
      "Requirement already satisfied: cycler>=0.10 in c:\\users\\raksh\\appdata\\local\\programs\\python\\python310\\lib\\site-packages (from matplotlib) (0.11.0)\n",
      "Requirement already satisfied: fonttools>=4.22.0 in c:\\users\\raksh\\appdata\\local\\programs\\python\\python310\\lib\\site-packages (from matplotlib) (4.37.2)\n",
      "Requirement already satisfied: kiwisolver>=1.0.1 in c:\\users\\raksh\\appdata\\local\\programs\\python\\python310\\lib\\site-packages (from matplotlib) (1.4.4)\n",
      "Requirement already satisfied: packaging>=20.0 in c:\\users\\raksh\\appdata\\local\\programs\\python\\python310\\lib\\site-packages (from matplotlib) (21.3)\n",
      "Requirement already satisfied: pillow>=6.2.0 in c:\\users\\raksh\\appdata\\local\\programs\\python\\python310\\lib\\site-packages (from matplotlib) (9.2.0)\n",
      "Requirement already satisfied: pyparsing>=2.2.1 in c:\\users\\raksh\\appdata\\local\\programs\\python\\python310\\lib\\site-packages (from matplotlib) (3.0.9)\n",
      "Requirement already satisfied: python-dateutil>=2.7 in c:\\users\\raksh\\appdata\\local\\programs\\python\\python310\\lib\\site-packages (from matplotlib) (2.8.2)\n",
      "Requirement already satisfied: filelock in c:\\users\\raksh\\appdata\\local\\programs\\python\\python310\\lib\\site-packages (from gdown) (3.12.4)\n",
      "Requirement already satisfied: requests[socks] in c:\\users\\raksh\\appdata\\local\\programs\\python\\python310\\lib\\site-packages (from gdown) (2.31.0)\n",
      "Requirement already satisfied: six in c:\\users\\raksh\\appdata\\local\\programs\\python\\python310\\lib\\site-packages (from gdown) (1.16.0)\n",
      "Requirement already satisfied: tqdm in c:\\users\\raksh\\appdata\\local\\programs\\python\\python310\\lib\\site-packages (from gdown) (4.66.1)\n",
      "Requirement already satisfied: beautifulsoup4 in c:\\users\\raksh\\appdata\\local\\programs\\python\\python310\\lib\\site-packages (from gdown) (4.11.1)\n",
      "Requirement already satisfied: absl-py>=1.0.0 in c:\\users\\raksh\\appdata\\local\\programs\\python\\python310\\lib\\site-packages (from tensorflow) (1.4.0)\n",
      "Requirement already satisfied: astunparse>=1.6.0 in c:\\users\\raksh\\appdata\\local\\programs\\python\\python310\\lib\\site-packages (from tensorflow) (1.6.3)\n",
      "Requirement already satisfied: flatbuffers>=2.0 in c:\\users\\raksh\\appdata\\local\\programs\\python\\python310\\lib\\site-packages (from tensorflow) (23.5.26)\n",
      "Requirement already satisfied: gast<=0.4.0,>=0.2.1 in c:\\users\\raksh\\appdata\\local\\programs\\python\\python310\\lib\\site-packages (from tensorflow) (0.4.0)\n",
      "Requirement already satisfied: google-pasta>=0.1.1 in c:\\users\\raksh\\appdata\\local\\programs\\python\\python310\\lib\\site-packages (from tensorflow) (0.2.0)\n",
      "Requirement already satisfied: h5py>=2.9.0 in c:\\users\\raksh\\appdata\\local\\programs\\python\\python310\\lib\\site-packages (from tensorflow) (3.9.0)\n",
      "Requirement already satisfied: keras-preprocessing>=1.1.1 in c:\\users\\raksh\\appdata\\local\\programs\\python\\python310\\lib\\site-packages (from tensorflow) (1.1.2)\n",
      "Requirement already satisfied: libclang>=13.0.0 in c:\\users\\raksh\\appdata\\local\\programs\\python\\python310\\lib\\site-packages (from tensorflow) (16.0.0)\n",
      "Requirement already satisfied: opt-einsum>=2.3.2 in c:\\users\\raksh\\appdata\\local\\programs\\python\\python310\\lib\\site-packages (from tensorflow) (3.3.0)\n",
      "Requirement already satisfied: protobuf<3.20,>=3.9.2 in c:\\users\\raksh\\appdata\\local\\programs\\python\\python310\\lib\\site-packages (from tensorflow) (3.19.6)\n",
      "Requirement already satisfied: setuptools in c:\\users\\raksh\\appdata\\local\\programs\\python\\python310\\lib\\site-packages (from tensorflow) (58.1.0)\n",
      "Requirement already satisfied: termcolor>=1.1.0 in c:\\users\\raksh\\appdata\\local\\programs\\python\\python310\\lib\\site-packages (from tensorflow) (2.3.0)\n",
      "Requirement already satisfied: typing-extensions>=3.6.6 in c:\\users\\raksh\\appdata\\local\\programs\\python\\python310\\lib\\site-packages (from tensorflow) (4.6.3)\n",
      "Requirement already satisfied: wrapt>=1.11.0 in c:\\users\\raksh\\appdata\\local\\programs\\python\\python310\\lib\\site-packages (from tensorflow) (1.14.1)\n",
      "Requirement already satisfied: tensorflow-io-gcs-filesystem>=0.23.1 in c:\\users\\raksh\\appdata\\local\\programs\\python\\python310\\lib\\site-packages (from tensorflow) (0.31.0)\n",
      "Requirement already satisfied: grpcio<2.0,>=1.24.3 in c:\\users\\raksh\\appdata\\local\\programs\\python\\python310\\lib\\site-packages (from tensorflow) (1.56.0)\n",
      "Requirement already satisfied: tensorboard<2.11,>=2.10 in c:\\users\\raksh\\appdata\\local\\programs\\python\\python310\\lib\\site-packages (from tensorflow) (2.10.1)\n",
      "Requirement already satisfied: tensorflow-estimator<2.11,>=2.10.0 in c:\\users\\raksh\\appdata\\local\\programs\\python\\python310\\lib\\site-packages (from tensorflow) (2.10.0)\n",
      "Requirement already satisfied: keras<2.11,>=2.10.0 in c:\\users\\raksh\\appdata\\local\\programs\\python\\python310\\lib\\site-packages (from tensorflow) (2.10.0)\n",
      "Requirement already satisfied: wheel<1.0,>=0.23.0 in c:\\users\\raksh\\appdata\\local\\programs\\python\\python310\\lib\\site-packages (from astunparse>=1.6.0->tensorflow) (0.40.0)\n",
      "Requirement already satisfied: google-auth<3,>=1.6.3 in c:\\users\\raksh\\appdata\\local\\programs\\python\\python310\\lib\\site-packages (from tensorboard<2.11,>=2.10->tensorflow) (2.20.0)\n",
      "Requirement already satisfied: google-auth-oauthlib<0.5,>=0.4.1 in c:\\users\\raksh\\appdata\\local\\programs\\python\\python310\\lib\\site-packages (from tensorboard<2.11,>=2.10->tensorflow) (0.4.6)\n",
      "Requirement already satisfied: markdown>=2.6.8 in c:\\users\\raksh\\appdata\\local\\programs\\python\\python310\\lib\\site-packages (from tensorboard<2.11,>=2.10->tensorflow) (3.4.3)\n",
      "Requirement already satisfied: tensorboard-data-server<0.7.0,>=0.6.0 in c:\\users\\raksh\\appdata\\local\\programs\\python\\python310\\lib\\site-packages (from tensorboard<2.11,>=2.10->tensorflow) (0.6.1)\n",
      "Requirement already satisfied: tensorboard-plugin-wit>=1.6.0 in c:\\users\\raksh\\appdata\\local\\programs\\python\\python310\\lib\\site-packages (from tensorboard<2.11,>=2.10->tensorflow) (1.8.1)\n",
      "Requirement already satisfied: werkzeug>=1.0.1 in c:\\users\\raksh\\appdata\\local\\programs\\python\\python310\\lib\\site-packages (from tensorboard<2.11,>=2.10->tensorflow) (2.2.2)\n",
      "Requirement already satisfied: soupsieve>1.2 in c:\\users\\raksh\\appdata\\local\\programs\\python\\python310\\lib\\site-packages (from beautifulsoup4->gdown) (2.3.2.post1)\n",
      "Requirement already satisfied: charset-normalizer<4,>=2 in c:\\users\\raksh\\appdata\\local\\programs\\python\\python310\\lib\\site-packages (from requests[socks]->gdown) (3.1.0)\n",
      "Requirement already satisfied: idna<4,>=2.5 in c:\\users\\raksh\\appdata\\local\\programs\\python\\python310\\lib\\site-packages (from requests[socks]->gdown) (3.4)\n",
      "Requirement already satisfied: urllib3<3,>=1.21.1 in c:\\users\\raksh\\appdata\\local\\programs\\python\\python310\\lib\\site-packages (from requests[socks]->gdown) (1.26.16)\n",
      "Requirement already satisfied: certifi>=2017.4.17 in c:\\users\\raksh\\appdata\\local\\programs\\python\\python310\\lib\\site-packages (from requests[socks]->gdown) (2023.5.7)\n",
      "Requirement already satisfied: PySocks!=1.5.7,>=1.5.6 in c:\\users\\raksh\\appdata\\local\\programs\\python\\python310\\lib\\site-packages (from requests[socks]->gdown) (1.7.1)\n",
      "Requirement already satisfied: colorama in c:\\users\\raksh\\appdata\\local\\programs\\python\\python310\\lib\\site-packages (from tqdm->gdown) (0.4.6)\n",
      "Requirement already satisfied: cachetools<6.0,>=2.0.0 in c:\\users\\raksh\\appdata\\local\\programs\\python\\python310\\lib\\site-packages (from google-auth<3,>=1.6.3->tensorboard<2.11,>=2.10->tensorflow) (5.3.1)\n",
      "Requirement already satisfied: pyasn1-modules>=0.2.1 in c:\\users\\raksh\\appdata\\local\\programs\\python\\python310\\lib\\site-packages (from google-auth<3,>=1.6.3->tensorboard<2.11,>=2.10->tensorflow) (0.3.0)\n",
      "Requirement already satisfied: rsa<5,>=3.1.4 in c:\\users\\raksh\\appdata\\local\\programs\\python\\python310\\lib\\site-packages (from google-auth<3,>=1.6.3->tensorboard<2.11,>=2.10->tensorflow) (4.9)\n",
      "Requirement already satisfied: requests-oauthlib>=0.7.0 in c:\\users\\raksh\\appdata\\local\\programs\\python\\python310\\lib\\site-packages (from google-auth-oauthlib<0.5,>=0.4.1->tensorboard<2.11,>=2.10->tensorflow) (1.3.1)\n",
      "Requirement already satisfied: MarkupSafe>=2.1.1 in c:\\users\\raksh\\appdata\\local\\programs\\python\\python310\\lib\\site-packages (from werkzeug>=1.0.1->tensorboard<2.11,>=2.10->tensorflow) (2.1.1)\n",
      "Requirement already satisfied: pyasn1<0.6.0,>=0.4.6 in c:\\users\\raksh\\appdata\\local\\programs\\python\\python310\\lib\\site-packages (from pyasn1-modules>=0.2.1->google-auth<3,>=1.6.3->tensorboard<2.11,>=2.10->tensorflow) (0.5.0)\n",
      "Requirement already satisfied: oauthlib>=3.0.0 in c:\\users\\raksh\\appdata\\local\\programs\\python\\python310\\lib\\site-packages (from requests-oauthlib>=0.7.0->google-auth-oauthlib<0.5,>=0.4.1->tensorboard<2.11,>=2.10->tensorflow) (3.2.2)\n"
     ]
    },
    {
     "name": "stderr",
     "output_type": "stream",
     "text": [
      "WARNING: Ignoring invalid distribution -rotobuf (c:\\users\\raksh\\appdata\\local\\programs\\python\\python310\\lib\\site-packages)\n",
      "WARNING: Ignoring invalid distribution -rotobuf (c:\\users\\raksh\\appdata\\local\\programs\\python\\python310\\lib\\site-packages)\n",
      "\n",
      "[notice] A new release of pip is available: 23.1.2 -> 23.3.1\n",
      "[notice] To update, run: python.exe -m pip install --upgrade pip\n"
     ]
    }
   ],
   "source": [
    "!pip install opencv-python matplotlib imageio gdown tensorflow"
   ]
  },
  {
   "cell_type": "code",
   "execution_count": 3,
   "id": "83e6f819",
   "metadata": {},
   "outputs": [],
   "source": [
    "import os\n",
    "import cv2\n",
    "import tensorflow as tf\n",
    "import numpy as np\n",
    "from typing import List\n",
    "from matplotlib import pyplot as plt\n",
    "import imageio"
   ]
  },
  {
   "cell_type": "markdown",
   "id": "0ea02091",
   "metadata": {},
   "source": [
    "# Data Loading Functions"
   ]
  },
  {
   "cell_type": "code",
   "execution_count": 4,
   "id": "4597fb9f",
   "metadata": {},
   "outputs": [],
   "source": [
    "import gdown"
   ]
  },
  {
   "cell_type": "raw",
   "id": "24088474",
   "metadata": {},
   "source": [
    "url = 'https://drive.google.com/uc?id=1YlvpDLix3S-U8fd-gqRwPcWXAXm8JwjL'\n",
    "output = 'data.zip'\n",
    "gdown.download(url, output, quiet=False)\n",
    "gdown.extractall('data.zip')"
   ]
  },
  {
   "cell_type": "code",
   "execution_count": 5,
   "id": "7957fd73",
   "metadata": {},
   "outputs": [],
   "source": [
    "def load_video(path:str) -> List[float]: \n",
    "\n",
    "    cap = cv2.VideoCapture(path)\n",
    "    frames = []\n",
    "    for _ in range(int(cap.get(cv2.CAP_PROP_FRAME_COUNT))): \n",
    "        ret, frame = cap.read()\n",
    "        frame = tf.image.rgb_to_grayscale(frame)\n",
    "        frames.append(frame[190:236,80:220,:])\n",
    "    cap.release()\n",
    "    \n",
    "    mean = tf.math.reduce_mean(frames)\n",
    "    std = tf.math.reduce_std(tf.cast(frames, tf.float32))\n",
    "    return tf.cast((frames - mean), tf.float32) / std"
   ]
  },
  {
   "cell_type": "code",
   "execution_count": 6,
   "id": "b155f285",
   "metadata": {},
   "outputs": [],
   "source": [
    "vocab = [x for x in \"abcdefghijklmnopqrstuvwxyz'?!123456789 \"]"
   ]
  },
  {
   "cell_type": "code",
   "execution_count": 7,
   "id": "124b305b",
   "metadata": {},
   "outputs": [
    {
     "name": "stdout",
     "output_type": "stream",
     "text": [
      "The vocabulary is: ['', 'a', 'b', 'c', 'd', 'e', 'f', 'g', 'h', 'i', 'j', 'k', 'l', 'm', 'n', 'o', 'p', 'q', 'r', 's', 't', 'u', 'v', 'w', 'x', 'y', 'z', \"'\", '?', '!', '1', '2', '3', '4', '5', '6', '7', '8', '9', ' '] (size =40)\n"
     ]
    }
   ],
   "source": [
    "char_to_num = tf.keras.layers.StringLookup(vocabulary=vocab, oov_token=\"\")\n",
    "num_to_char = tf.keras.layers.StringLookup(\n",
    "    vocabulary=char_to_num.get_vocabulary(), oov_token=\"\", invert=True\n",
    ")\n",
    "\n",
    "print(\n",
    "    f\"The vocabulary is: {char_to_num.get_vocabulary()} \"\n",
    "    f\"(size ={char_to_num.vocabulary_size()})\"\n",
    ")"
   ]
  },
  {
   "cell_type": "code",
   "execution_count": 8,
   "id": "fdecfde5",
   "metadata": {},
   "outputs": [
    {
     "data": {
      "text/plain": [
       "['',\n",
       " 'a',\n",
       " 'b',\n",
       " 'c',\n",
       " 'd',\n",
       " 'e',\n",
       " 'f',\n",
       " 'g',\n",
       " 'h',\n",
       " 'i',\n",
       " 'j',\n",
       " 'k',\n",
       " 'l',\n",
       " 'm',\n",
       " 'n',\n",
       " 'o',\n",
       " 'p',\n",
       " 'q',\n",
       " 'r',\n",
       " 's',\n",
       " 't',\n",
       " 'u',\n",
       " 'v',\n",
       " 'w',\n",
       " 'x',\n",
       " 'y',\n",
       " 'z',\n",
       " \"'\",\n",
       " '?',\n",
       " '!',\n",
       " '1',\n",
       " '2',\n",
       " '3',\n",
       " '4',\n",
       " '5',\n",
       " '6',\n",
       " '7',\n",
       " '8',\n",
       " '9',\n",
       " ' ']"
      ]
     },
     "execution_count": 8,
     "metadata": {},
     "output_type": "execute_result"
    }
   ],
   "source": [
    "char_to_num.get_vocabulary()"
   ]
  },
  {
   "cell_type": "code",
   "execution_count": 9,
   "id": "55b89e86",
   "metadata": {},
   "outputs": [
    {
     "data": {
      "text/plain": [
       "<tf.Tensor: shape=(4,), dtype=int64, numpy=array([18,  1, 24, 24], dtype=int64)>"
      ]
     },
     "execution_count": 9,
     "metadata": {},
     "output_type": "execute_result"
    }
   ],
   "source": [
    "char_to_num(['r','a','x','x'])"
   ]
  },
  {
   "cell_type": "code",
   "execution_count": 10,
   "id": "ab845090",
   "metadata": {},
   "outputs": [
    {
     "data": {
      "text/plain": [
       "<tf.Tensor: shape=(4,), dtype=string, numpy=array([b'r', b'a', b'x', b'x'], dtype=object)>"
      ]
     },
     "execution_count": 10,
     "metadata": {},
     "output_type": "execute_result"
    }
   ],
   "source": [
    "num_to_char([18,  1, 24, 24])"
   ]
  },
  {
   "cell_type": "code",
   "execution_count": 11,
   "id": "2f82273a",
   "metadata": {},
   "outputs": [],
   "source": [
    "def load_alignments(path:str) -> List[str]: \n",
    "    with open(path, 'r') as f: \n",
    "        lines = f.readlines() \n",
    "    tokens = []\n",
    "    for line in lines:\n",
    "        line = line.split()\n",
    "        if line[2] != 'sil': \n",
    "            tokens = [*tokens,' ',line[2]]\n",
    "    return char_to_num(tf.reshape(tf.strings.unicode_split(tokens, input_encoding='UTF-8'), (-1)))[1:]"
   ]
  },
  {
   "cell_type": "code",
   "execution_count": 12,
   "id": "5e90f3b0",
   "metadata": {},
   "outputs": [],
   "source": [
    "def load_data(path: str): \n",
    "    path = bytes.decode(path.numpy())\n",
    "    #file_name = path.split('/')[-1].split('.')[0]\n",
    "    # File name splitting for windows\n",
    "    file_name = path.split('\\\\')[-1].split('.')[0]\n",
    "    video_path = os.path.join('data','s1',f'{file_name}.mpg')\n",
    "    alignment_path = os.path.join('data','alignments','s1',f'{file_name}.align')\n",
    "    frames = load_video(video_path) \n",
    "    alignments = load_alignments(alignment_path)\n",
    "    \n",
    "    return frames, alignments"
   ]
  },
  {
   "cell_type": "code",
   "execution_count": 13,
   "id": "afb08498",
   "metadata": {},
   "outputs": [],
   "source": [
    "test_path = '.\\\\data\\\\s1\\\\bbal6n.mpg'"
   ]
  },
  {
   "cell_type": "code",
   "execution_count": 14,
   "id": "88b0b7d2",
   "metadata": {},
   "outputs": [
    {
     "data": {
      "text/plain": [
       "'bbal6n'"
      ]
     },
     "execution_count": 14,
     "metadata": {},
     "output_type": "execute_result"
    }
   ],
   "source": [
    "tf.convert_to_tensor(test_path).numpy().decode('utf-8').split('\\\\')[-1].split('.')[0]"
   ]
  },
  {
   "cell_type": "code",
   "execution_count": 15,
   "id": "24a7a89b",
   "metadata": {},
   "outputs": [],
   "source": [
    "frames, alignments = load_data(tf.convert_to_tensor(test_path))"
   ]
  },
  {
   "cell_type": "code",
   "execution_count": 16,
   "id": "ca409f82",
   "metadata": {},
   "outputs": [
    {
     "data": {
      "text/plain": [
       "<tf.Tensor: shape=(75, 46, 140, 1), dtype=float32, numpy=\n",
       "array([[[[ 1.4603739 ],\n",
       "         [ 1.4603739 ],\n",
       "         [ 1.4209043 ],\n",
       "         ...,\n",
       "         [ 0.15787826],\n",
       "         [ 0.19734782],\n",
       "         [ 0.07893913]],\n",
       "\n",
       "        [[ 1.4603739 ],\n",
       "         [ 1.4603739 ],\n",
       "         [ 1.4209043 ],\n",
       "         ...,\n",
       "         [ 0.15787826],\n",
       "         [ 0.07893913],\n",
       "         [ 0.03946957]],\n",
       "\n",
       "        [[ 1.4209043 ],\n",
       "         [ 1.4209043 ],\n",
       "         [ 1.3814348 ],\n",
       "         ...,\n",
       "         [ 0.07893913],\n",
       "         [ 0.07893913],\n",
       "         [ 0.07893913]],\n",
       "\n",
       "        ...,\n",
       "\n",
       "        [[ 0.94726956],\n",
       "         [ 0.94726956],\n",
       "         [ 0.94726956],\n",
       "         ...,\n",
       "         [ 9.94633   ],\n",
       "         [ 9.867392  ],\n",
       "         [ 9.867392  ]],\n",
       "\n",
       "        [[ 0.94726956],\n",
       "         [ 0.94726956],\n",
       "         [ 0.94726956],\n",
       "         ...,\n",
       "         [ 9.90686   ],\n",
       "         [ 9.867392  ],\n",
       "         [ 9.867392  ]],\n",
       "\n",
       "        [[ 0.94726956],\n",
       "         [ 0.94726956],\n",
       "         [ 0.94726956],\n",
       "         ...,\n",
       "         [ 9.90686   ],\n",
       "         [ 9.867392  ],\n",
       "         [ 9.867392  ]]],\n",
       "\n",
       "\n",
       "       [[[ 1.4209043 ],\n",
       "         [ 1.4209043 ],\n",
       "         [ 1.3419652 ],\n",
       "         ...,\n",
       "         [ 0.19734782],\n",
       "         [ 0.11840869],\n",
       "         [ 0.15787826]],\n",
       "\n",
       "        [[ 1.4209043 ],\n",
       "         [ 1.4209043 ],\n",
       "         [ 1.3419652 ],\n",
       "         ...,\n",
       "         [ 0.23681739],\n",
       "         [ 0.        ],\n",
       "         [ 0.03946957]],\n",
       "\n",
       "        [[ 1.3419652 ],\n",
       "         [ 1.3419652 ],\n",
       "         [ 1.3024956 ],\n",
       "         ...,\n",
       "         [ 0.11840869],\n",
       "         [ 0.15787826],\n",
       "         [ 0.15787826]],\n",
       "\n",
       "        ...,\n",
       "\n",
       "        [[ 0.94726956],\n",
       "         [ 0.94726956],\n",
       "         [ 0.94726956],\n",
       "         ...,\n",
       "         [10.0252695 ],\n",
       "         [ 9.94633   ],\n",
       "         [ 9.94633   ]],\n",
       "\n",
       "        [[ 0.90779996],\n",
       "         [ 0.90779996],\n",
       "         [ 0.90779996],\n",
       "         ...,\n",
       "         [ 9.94633   ],\n",
       "         [ 9.90686   ],\n",
       "         [ 9.90686   ]],\n",
       "\n",
       "        [[ 0.90779996],\n",
       "         [ 0.90779996],\n",
       "         [ 0.90779996],\n",
       "         ...,\n",
       "         [ 9.94633   ],\n",
       "         [ 9.90686   ],\n",
       "         [ 9.90686   ]]],\n",
       "\n",
       "\n",
       "       [[[ 1.4209043 ],\n",
       "         [ 1.4209043 ],\n",
       "         [ 1.3419652 ],\n",
       "         ...,\n",
       "         [ 0.15787826],\n",
       "         [ 0.07893913],\n",
       "         [ 0.15787826]],\n",
       "\n",
       "        [[ 1.4209043 ],\n",
       "         [ 1.4209043 ],\n",
       "         [ 1.3419652 ],\n",
       "         ...,\n",
       "         [ 0.27628696],\n",
       "         [ 0.03946957],\n",
       "         [ 0.15787826]],\n",
       "\n",
       "        [[ 1.3419652 ],\n",
       "         [ 1.3024956 ],\n",
       "         [ 1.3419652 ],\n",
       "         ...,\n",
       "         [ 0.11840869],\n",
       "         [ 0.11840869],\n",
       "         [ 0.11840869]],\n",
       "\n",
       "        ...,\n",
       "\n",
       "        [[ 0.9867391 ],\n",
       "         [ 0.9867391 ],\n",
       "         [ 0.94726956],\n",
       "         ...,\n",
       "         [ 9.9858    ],\n",
       "         [ 9.9858    ],\n",
       "         [ 9.9858    ]],\n",
       "\n",
       "        [[ 0.94726956],\n",
       "         [ 0.94726956],\n",
       "         [ 0.90779996],\n",
       "         ...,\n",
       "         [ 9.94633   ],\n",
       "         [ 9.90686   ],\n",
       "         [ 9.90686   ]],\n",
       "\n",
       "        [[ 0.94726956],\n",
       "         [ 0.94726956],\n",
       "         [ 0.90779996],\n",
       "         ...,\n",
       "         [ 9.94633   ],\n",
       "         [ 9.90686   ],\n",
       "         [ 9.90686   ]]],\n",
       "\n",
       "\n",
       "       ...,\n",
       "\n",
       "\n",
       "       [[[ 1.3814348 ],\n",
       "         [ 1.3814348 ],\n",
       "         [ 1.4209043 ],\n",
       "         ...,\n",
       "         [ 0.19734782],\n",
       "         [ 0.15787826],\n",
       "         [ 0.07893913]],\n",
       "\n",
       "        [[ 1.3814348 ],\n",
       "         [ 1.3814348 ],\n",
       "         [ 1.4209043 ],\n",
       "         ...,\n",
       "         [ 0.11840869],\n",
       "         [ 0.11840869],\n",
       "         [ 0.07893913]],\n",
       "\n",
       "        [[ 1.3024956 ],\n",
       "         [ 1.3024956 ],\n",
       "         [ 1.3024956 ],\n",
       "         ...,\n",
       "         [ 0.11840869],\n",
       "         [ 0.11840869],\n",
       "         [ 0.15787826]],\n",
       "\n",
       "        ...,\n",
       "\n",
       "        [[ 0.9867391 ],\n",
       "         [ 0.94726956],\n",
       "         [ 0.94726956],\n",
       "         ...,\n",
       "         [ 9.90686   ],\n",
       "         [ 9.867392  ],\n",
       "         [ 9.867392  ]],\n",
       "\n",
       "        [[ 0.94726956],\n",
       "         [ 0.94726956],\n",
       "         [ 0.94726956],\n",
       "         ...,\n",
       "         [ 9.90686   ],\n",
       "         [ 9.867392  ],\n",
       "         [ 9.867392  ]],\n",
       "\n",
       "        [[ 0.94726956],\n",
       "         [ 0.94726956],\n",
       "         [ 0.94726956],\n",
       "         ...,\n",
       "         [ 9.90686   ],\n",
       "         [ 9.867392  ],\n",
       "         [ 9.867392  ]]],\n",
       "\n",
       "\n",
       "       [[[ 1.3419652 ],\n",
       "         [ 1.3419652 ],\n",
       "         [ 1.3814348 ],\n",
       "         ...,\n",
       "         [ 0.15787826],\n",
       "         [ 0.07893913],\n",
       "         [ 0.        ]],\n",
       "\n",
       "        [[ 1.3419652 ],\n",
       "         [ 1.3419652 ],\n",
       "         [ 1.3814348 ],\n",
       "         ...,\n",
       "         [ 0.15787826],\n",
       "         [ 0.11840869],\n",
       "         [ 0.03946957]],\n",
       "\n",
       "        [[ 1.3024956 ],\n",
       "         [ 1.3024956 ],\n",
       "         [ 1.3024956 ],\n",
       "         ...,\n",
       "         [ 0.11840869],\n",
       "         [ 0.07893913],\n",
       "         [ 0.11840869]],\n",
       "\n",
       "        ...,\n",
       "\n",
       "        [[ 0.94726956],\n",
       "         [ 0.90779996],\n",
       "         [ 0.90779996],\n",
       "         ...,\n",
       "         [ 9.867392  ],\n",
       "         [ 9.827922  ],\n",
       "         [ 9.827922  ]],\n",
       "\n",
       "        [[ 0.90779996],\n",
       "         [ 0.90779996],\n",
       "         [ 0.90779996],\n",
       "         ...,\n",
       "         [ 9.867392  ],\n",
       "         [ 9.827922  ],\n",
       "         [ 9.827922  ]],\n",
       "\n",
       "        [[ 0.90779996],\n",
       "         [ 0.90779996],\n",
       "         [ 0.90779996],\n",
       "         ...,\n",
       "         [ 9.867392  ],\n",
       "         [ 9.827922  ],\n",
       "         [ 9.827922  ]]],\n",
       "\n",
       "\n",
       "       [[[ 1.3024956 ],\n",
       "         [ 1.3024956 ],\n",
       "         [ 1.3814348 ],\n",
       "         ...,\n",
       "         [ 0.07893913],\n",
       "         [ 0.07893913],\n",
       "         [ 0.15787826]],\n",
       "\n",
       "        [[ 1.3024956 ],\n",
       "         [ 1.3024956 ],\n",
       "         [ 1.3814348 ],\n",
       "         ...,\n",
       "         [ 0.        ],\n",
       "         [ 0.07893913],\n",
       "         [ 0.23681739]],\n",
       "\n",
       "        [[ 1.3419652 ],\n",
       "         [ 1.3419652 ],\n",
       "         [ 1.3419652 ],\n",
       "         ...,\n",
       "         [ 0.07893913],\n",
       "         [ 0.07893913],\n",
       "         [ 0.07893913]],\n",
       "\n",
       "        ...,\n",
       "\n",
       "        [[ 0.90779996],\n",
       "         [ 0.90779996],\n",
       "         [ 0.90779996],\n",
       "         ...,\n",
       "         [ 9.90686   ],\n",
       "         [ 9.867392  ],\n",
       "         [ 9.867392  ]],\n",
       "\n",
       "        [[ 0.90779996],\n",
       "         [ 0.90779996],\n",
       "         [ 0.90779996],\n",
       "         ...,\n",
       "         [ 9.94633   ],\n",
       "         [ 9.867392  ],\n",
       "         [ 9.867392  ]],\n",
       "\n",
       "        [[ 0.90779996],\n",
       "         [ 0.90779996],\n",
       "         [ 0.90779996],\n",
       "         ...,\n",
       "         [ 9.94633   ],\n",
       "         [ 9.867392  ],\n",
       "         [ 9.867392  ]]]], dtype=float32)>"
      ]
     },
     "execution_count": 16,
     "metadata": {},
     "output_type": "execute_result"
    }
   ],
   "source": [
    "frames"
   ]
  },
  {
   "cell_type": "code",
   "execution_count": 17,
   "id": "f4d4d798",
   "metadata": {},
   "outputs": [
    {
     "data": {
      "text/plain": [
       "<tf.Tensor: shape=(21,), dtype=int64, numpy=\n",
       "array([ 2,  9, 14, 39,  2, 12, 21,  5, 39,  1, 20, 39, 12, 39, 19,  9, 24,\n",
       "       39, 14, 15, 23], dtype=int64)>"
      ]
     },
     "execution_count": 17,
     "metadata": {},
     "output_type": "execute_result"
    }
   ],
   "source": [
    "alignments"
   ]
  },
  {
   "cell_type": "code",
   "execution_count": 18,
   "id": "aaa1d575",
   "metadata": {},
   "outputs": [
    {
     "data": {
      "text/plain": [
       "<matplotlib.image.AxesImage at 0x20b572ec160>"
      ]
     },
     "execution_count": 18,
     "metadata": {},
     "output_type": "execute_result"
    },
    {
     "data": {
      "image/png": "[encoded data removed]",
      "text/plain": [
       "<Figure size 432x288 with 1 Axes>"
      ]
     },
     "metadata": {
      "needs_background": "light"
     },
     "output_type": "display_data"
    }
   ],
   "source": [
    "plt.imshow(frames[40])"
   ]
  },
  {
   "cell_type": "code",
   "execution_count": 19,
   "id": "643c0eca",
   "metadata": {},
   "outputs": [
    {
     "data": {
      "text/plain": [
       "<tf.Tensor: shape=(), dtype=string, numpy=b'bin blue at l six now'>"
      ]
     },
     "execution_count": 19,
     "metadata": {},
     "output_type": "execute_result"
    }
   ],
   "source": [
    "tf.strings.reduce_join([bytes.decode(x) for x in num_to_char(alignments.numpy()).numpy()])"
   ]
  },
  {
   "cell_type": "code",
   "execution_count": 20,
   "id": "92862433",
   "metadata": {},
   "outputs": [],
   "source": [
    "def mappable_function(path:str) ->List[str]:\n",
    "    result = tf.py_function(load_data, [path], (tf.float32, tf.int64))\n",
    "    return result"
   ]
  },
  {
   "cell_type": "markdown",
   "id": "2b7ec644",
   "metadata": {},
   "source": [
    "# Create data pipeline"
   ]
  },
  {
   "cell_type": "code",
   "execution_count": 21,
   "id": "5aef6932",
   "metadata": {},
   "outputs": [],
   "source": [
    "data = tf.data.Dataset.list_files('./data/s1/*.mpg')\n",
    "data = data.shuffle(500, reshuffle_each_iteration=False)\n",
    "data = data.map(mappable_function)\n",
    "data = data.padded_batch(2, padded_shapes=([75,None,None,None],[40]))\n",
    "data = data.prefetch(tf.data.AUTOTUNE)\n",
    "# Added for split \n",
    "train = data.take(450)\n",
    "test = data.skip(450)"
   ]
  },
  {
   "cell_type": "code",
   "execution_count": 22,
   "id": "e78d3da6",
   "metadata": {},
   "outputs": [
    {
     "data": {
      "text/plain": [
       "50"
      ]
     },
     "execution_count": 22,
     "metadata": {},
     "output_type": "execute_result"
    }
   ],
   "source": [
    "len(test)"
   ]
  },
  {
   "cell_type": "code",
   "execution_count": 23,
   "id": "74c5b2d7",
   "metadata": {},
   "outputs": [],
   "source": [
    "frames, alignments = data.as_numpy_iterator().next()"
   ]
  },
  {
   "cell_type": "code",
   "execution_count": 24,
   "id": "fac1a11d",
   "metadata": {},
   "outputs": [
    {
     "data": {
      "text/plain": [
       "2"
      ]
     },
     "execution_count": 24,
     "metadata": {},
     "output_type": "execute_result"
    }
   ],
   "source": [
    "len(frames)"
   ]
  },
  {
   "cell_type": "code",
   "execution_count": 25,
   "id": "d059bb35",
   "metadata": {},
   "outputs": [],
   "source": [
    "sample = data.as_numpy_iterator()"
   ]
  },
  {
   "cell_type": "code",
   "execution_count": 26,
   "id": "514c5d63",
   "metadata": {},
   "outputs": [
    {
     "data": {
      "text/plain": [
       "array([[[[[1.5228592 ],\n",
       "          [1.5228592 ],\n",
       "          [1.5228592 ],\n",
       "          ...,\n",
       "          [0.25380987],\n",
       "          [0.32632697],\n",
       "          [0.32632697]],\n",
       "\n",
       "         [[1.5228592 ],\n",
       "          [1.5228592 ],\n",
       "          [1.5228592 ],\n",
       "          ...,\n",
       "          [0.25380987],\n",
       "          [0.32632697],\n",
       "          [0.32632697]],\n",
       "\n",
       "         [[1.3415664 ],\n",
       "          [1.3415664 ],\n",
       "          [1.3415664 ],\n",
       "          ...,\n",
       "          [0.29006842],\n",
       "          [0.32632697],\n",
       "          [0.32632697]],\n",
       "\n",
       "         ...,\n",
       "\n",
       "         [[0.9789809 ],\n",
       "          [0.9789809 ],\n",
       "          [0.9789809 ],\n",
       "          ...,\n",
       "          [0.        ],\n",
       "          [0.        ],\n",
       "          [0.        ]],\n",
       "\n",
       "         [[0.9427223 ],\n",
       "          [0.9427223 ],\n",
       "          [0.9427223 ],\n",
       "          ...,\n",
       "          [9.173413  ],\n",
       "          [9.173413  ],\n",
       "          [9.173413  ]],\n",
       "\n",
       "         [[0.9427223 ],\n",
       "          [0.9427223 ],\n",
       "          [0.9427223 ],\n",
       "          ...,\n",
       "          [9.173413  ],\n",
       "          [9.173413  ],\n",
       "          [9.173413  ]]],\n",
       "\n",
       "\n",
       "        [[[1.377825  ],\n",
       "          [1.377825  ],\n",
       "          [1.4140835 ],\n",
       "          ...,\n",
       "          [0.18129276],\n",
       "          [0.2175513 ],\n",
       "          [0.2175513 ]],\n",
       "\n",
       "         [[1.377825  ],\n",
       "          [1.377825  ],\n",
       "          [1.4140835 ],\n",
       "          ...,\n",
       "          [0.18129276],\n",
       "          [0.2175513 ],\n",
       "          [0.2175513 ]],\n",
       "\n",
       "         [[1.3053079 ],\n",
       "          [1.3053079 ],\n",
       "          [1.3415664 ],\n",
       "          ...,\n",
       "          [0.3625855 ],\n",
       "          [0.3625855 ],\n",
       "          [0.3625855 ]],\n",
       "\n",
       "         ...,\n",
       "\n",
       "         [[1.0152395 ],\n",
       "          [1.0152395 ],\n",
       "          [1.0152395 ],\n",
       "          ...,\n",
       "          [0.03625855],\n",
       "          [0.        ],\n",
       "          [0.        ]],\n",
       "\n",
       "         [[0.9789809 ],\n",
       "          [0.9789809 ],\n",
       "          [0.9789809 ],\n",
       "          ...,\n",
       "          [9.245931  ],\n",
       "          [9.173413  ],\n",
       "          [9.173413  ]],\n",
       "\n",
       "         [[0.9789809 ],\n",
       "          [0.9789809 ],\n",
       "          [0.9789809 ],\n",
       "          ...,\n",
       "          [9.245931  ],\n",
       "          [9.173413  ],\n",
       "          [9.173413  ]]],\n",
       "\n",
       "\n",
       "        [[[1.377825  ],\n",
       "          [1.377825  ],\n",
       "          [1.4140835 ],\n",
       "          ...,\n",
       "          [0.18129276],\n",
       "          [0.2175513 ],\n",
       "          [0.29006842]],\n",
       "\n",
       "         [[1.377825  ],\n",
       "          [1.377825  ],\n",
       "          [1.4140835 ],\n",
       "          ...,\n",
       "          [0.18129276],\n",
       "          [0.2175513 ],\n",
       "          [0.29006842]],\n",
       "\n",
       "         [[1.3415664 ],\n",
       "          [1.3415664 ],\n",
       "          [1.377825  ],\n",
       "          ...,\n",
       "          [0.3625855 ],\n",
       "          [0.3625855 ],\n",
       "          [0.3625855 ]],\n",
       "\n",
       "         ...,\n",
       "\n",
       "         [[1.0152395 ],\n",
       "          [1.0152395 ],\n",
       "          [1.0152395 ],\n",
       "          ...,\n",
       "          [0.03625855],\n",
       "          [0.03625855],\n",
       "          [0.        ]],\n",
       "\n",
       "         [[0.9789809 ],\n",
       "          [0.9789809 ],\n",
       "          [0.9789809 ],\n",
       "          ...,\n",
       "          [0.        ],\n",
       "          [0.        ],\n",
       "          [0.        ]],\n",
       "\n",
       "         [[0.9789809 ],\n",
       "          [0.9789809 ],\n",
       "          [0.9789809 ],\n",
       "          ...,\n",
       "          [0.        ],\n",
       "          [0.        ],\n",
       "          [9.209672  ]]],\n",
       "\n",
       "\n",
       "        ...,\n",
       "\n",
       "\n",
       "        [[[1.5591177 ],\n",
       "          [1.4140835 ],\n",
       "          [1.450342  ],\n",
       "          ...,\n",
       "          [0.3625855 ],\n",
       "          [0.3625855 ],\n",
       "          [0.3625855 ]],\n",
       "\n",
       "         [[1.6316348 ],\n",
       "          [1.4140835 ],\n",
       "          [1.377825  ],\n",
       "          ...,\n",
       "          [0.3625855 ],\n",
       "          [0.3625855 ],\n",
       "          [0.3625855 ]],\n",
       "\n",
       "         [[1.450342  ],\n",
       "          [1.450342  ],\n",
       "          [1.4140835 ],\n",
       "          ...,\n",
       "          [0.3625855 ],\n",
       "          [0.3625855 ],\n",
       "          [0.3625855 ]],\n",
       "\n",
       "         ...,\n",
       "\n",
       "         [[1.0152395 ],\n",
       "          [0.9789809 ],\n",
       "          [0.9789809 ],\n",
       "          ...,\n",
       "          [9.245931  ],\n",
       "          [9.245931  ],\n",
       "          [9.245931  ]],\n",
       "\n",
       "         [[0.9789809 ],\n",
       "          [0.9789809 ],\n",
       "          [0.9789809 ],\n",
       "          ...,\n",
       "          [9.245931  ],\n",
       "          [9.245931  ],\n",
       "          [9.245931  ]],\n",
       "\n",
       "         [[0.9789809 ],\n",
       "          [0.9789809 ],\n",
       "          [0.9789809 ],\n",
       "          ...,\n",
       "          [9.245931  ],\n",
       "          [9.173413  ],\n",
       "          [9.173413  ]]],\n",
       "\n",
       "\n",
       "        [[[1.5591177 ],\n",
       "          [1.4140835 ],\n",
       "          [1.450342  ],\n",
       "          ...,\n",
       "          [0.3625855 ],\n",
       "          [0.3625855 ],\n",
       "          [0.3625855 ]],\n",
       "\n",
       "         [[1.5953763 ],\n",
       "          [1.4140835 ],\n",
       "          [1.377825  ],\n",
       "          ...,\n",
       "          [0.3625855 ],\n",
       "          [0.3625855 ],\n",
       "          [0.3625855 ]],\n",
       "\n",
       "         [[1.4140835 ],\n",
       "          [1.4140835 ],\n",
       "          [1.377825  ],\n",
       "          ...,\n",
       "          [0.3625855 ],\n",
       "          [0.29006842],\n",
       "          [0.29006842]],\n",
       "\n",
       "         ...,\n",
       "\n",
       "         [[1.0152395 ],\n",
       "          [0.9789809 ],\n",
       "          [0.9789809 ],\n",
       "          ...,\n",
       "          [0.        ],\n",
       "          [9.245931  ],\n",
       "          [9.245931  ]],\n",
       "\n",
       "         [[0.9789809 ],\n",
       "          [0.9789809 ],\n",
       "          [0.9789809 ],\n",
       "          ...,\n",
       "          [0.        ],\n",
       "          [9.245931  ],\n",
       "          [9.245931  ]],\n",
       "\n",
       "         [[0.9789809 ],\n",
       "          [0.9789809 ],\n",
       "          [0.9789809 ],\n",
       "          ...,\n",
       "          [0.        ],\n",
       "          [9.173413  ],\n",
       "          [9.173413  ]]],\n",
       "\n",
       "\n",
       "        [[[1.4866006 ],\n",
       "          [1.377825  ],\n",
       "          [1.377825  ],\n",
       "          ...,\n",
       "          [0.29006842],\n",
       "          [0.2175513 ],\n",
       "          [0.2175513 ]],\n",
       "\n",
       "         [[1.5228592 ],\n",
       "          [1.4140835 ],\n",
       "          [1.3415664 ],\n",
       "          ...,\n",
       "          [0.29006842],\n",
       "          [0.2175513 ],\n",
       "          [0.2175513 ]],\n",
       "\n",
       "         [[1.4140835 ],\n",
       "          [1.4140835 ],\n",
       "          [1.4140835 ],\n",
       "          ...,\n",
       "          [0.29006842],\n",
       "          [0.2175513 ],\n",
       "          [0.2175513 ]],\n",
       "\n",
       "         ...,\n",
       "\n",
       "         [[1.0152395 ],\n",
       "          [0.9789809 ],\n",
       "          [0.9789809 ],\n",
       "          ...,\n",
       "          [0.03625855],\n",
       "          [9.245931  ],\n",
       "          [9.245931  ]],\n",
       "\n",
       "         [[0.9789809 ],\n",
       "          [0.9789809 ],\n",
       "          [0.9789809 ],\n",
       "          ...,\n",
       "          [0.0725171 ],\n",
       "          [0.        ],\n",
       "          [0.        ]],\n",
       "\n",
       "         [[0.9789809 ],\n",
       "          [0.9789809 ],\n",
       "          [0.9789809 ],\n",
       "          ...,\n",
       "          [0.03625855],\n",
       "          [9.209672  ],\n",
       "          [9.209672  ]]]],\n",
       "\n",
       "\n",
       "\n",
       "       [[[[1.347844  ],\n",
       "          [1.3842722 ],\n",
       "          [1.4935569 ],\n",
       "          ...,\n",
       "          [0.40071037],\n",
       "          [0.36428216],\n",
       "          [0.36428216]],\n",
       "\n",
       "         [[1.3114158 ],\n",
       "          [1.4207004 ],\n",
       "          [1.4207004 ],\n",
       "          ...,\n",
       "          [0.40071037],\n",
       "          [0.36428216],\n",
       "          [0.36428216]],\n",
       "\n",
       "         [[1.4935569 ],\n",
       "          [1.4935569 ],\n",
       "          [1.5299851 ],\n",
       "          ...,\n",
       "          [0.40071037],\n",
       "          [0.36428216],\n",
       "          [0.36428216]],\n",
       "\n",
       "         ...,\n",
       "\n",
       "         [[1.0564183 ],\n",
       "          [1.0564183 ],\n",
       "          [1.0564183 ],\n",
       "          ...,\n",
       "          [0.03642822],\n",
       "          [0.03642822],\n",
       "          [9.289195  ]],\n",
       "\n",
       "         [[1.0564183 ],\n",
       "          [1.0564183 ],\n",
       "          [1.0564183 ],\n",
       "          ...,\n",
       "          [0.14571287],\n",
       "          [0.14571287],\n",
       "          [0.10928465]],\n",
       "\n",
       "         [[1.0564183 ],\n",
       "          [1.0564183 ],\n",
       "          [1.0564183 ],\n",
       "          ...,\n",
       "          [0.10928465],\n",
       "          [0.10928465],\n",
       "          [0.07285643]]],\n",
       "\n",
       "\n",
       "        [[[1.347844  ],\n",
       "          [1.4935569 ],\n",
       "          [1.4935569 ],\n",
       "          ...,\n",
       "          [0.36428216],\n",
       "          [0.29142573],\n",
       "          [0.29142573]],\n",
       "\n",
       "         [[1.3842722 ],\n",
       "          [1.4207004 ],\n",
       "          [1.4935569 ],\n",
       "          ...,\n",
       "          [0.36428216],\n",
       "          [0.29142573],\n",
       "          [0.29142573]],\n",
       "\n",
       "         [[1.4207004 ],\n",
       "          [1.4207004 ],\n",
       "          [1.4935569 ],\n",
       "          ...,\n",
       "          [0.32785395],\n",
       "          [0.29142573],\n",
       "          [0.29142573]],\n",
       "\n",
       "         ...,\n",
       "\n",
       "         [[1.0928465 ],\n",
       "          [1.0928465 ],\n",
       "          [1.0928465 ],\n",
       "          ...,\n",
       "          [0.        ],\n",
       "          [0.        ],\n",
       "          [9.252767  ]],\n",
       "\n",
       "         [[1.0564183 ],\n",
       "          [1.0564183 ],\n",
       "          [1.0564183 ],\n",
       "          ...,\n",
       "          [0.03642822],\n",
       "          [0.07285643],\n",
       "          [0.07285643]],\n",
       "\n",
       "         [[1.0564183 ],\n",
       "          [1.0564183 ],\n",
       "          [1.0564183 ],\n",
       "          ...,\n",
       "          [0.03642822],\n",
       "          [0.10928465],\n",
       "          [0.10928465]]],\n",
       "\n",
       "\n",
       "        [[[1.4207004 ],\n",
       "          [1.4935569 ],\n",
       "          [1.4571286 ],\n",
       "          ...,\n",
       "          [0.36428216],\n",
       "          [0.25499752],\n",
       "          [0.25499752]],\n",
       "\n",
       "         [[1.4935569 ],\n",
       "          [1.3842722 ],\n",
       "          [1.3842722 ],\n",
       "          ...,\n",
       "          [0.36428216],\n",
       "          [0.25499752],\n",
       "          [0.25499752]],\n",
       "\n",
       "         [[1.4571286 ],\n",
       "          [1.4571286 ],\n",
       "          [1.4935569 ],\n",
       "          ...,\n",
       "          [0.32785395],\n",
       "          [0.29142573],\n",
       "          [0.29142573]],\n",
       "\n",
       "         ...,\n",
       "\n",
       "         [[1.0928465 ],\n",
       "          [1.0928465 ],\n",
       "          [1.0928465 ],\n",
       "          ...,\n",
       "          [0.07285643],\n",
       "          [0.07285643],\n",
       "          [0.03642822]],\n",
       "\n",
       "         [[1.0564183 ],\n",
       "          [1.0564183 ],\n",
       "          [1.0564183 ],\n",
       "          ...,\n",
       "          [0.07285643],\n",
       "          [0.07285643],\n",
       "          [0.        ]],\n",
       "\n",
       "         [[1.0564183 ],\n",
       "          [1.0564183 ],\n",
       "          [1.0564183 ],\n",
       "          ...,\n",
       "          [0.10928465],\n",
       "          [0.07285643],\n",
       "          [0.        ]]],\n",
       "\n",
       "\n",
       "        ...,\n",
       "\n",
       "\n",
       "        [[[1.5299851 ],\n",
       "          [1.4935569 ],\n",
       "          [1.3114158 ],\n",
       "          ...,\n",
       "          [0.29142573],\n",
       "          [0.2185693 ],\n",
       "          [0.2185693 ]],\n",
       "\n",
       "         [[1.6028415 ],\n",
       "          [1.5664133 ],\n",
       "          [1.3114158 ],\n",
       "          ...,\n",
       "          [0.29142573],\n",
       "          [0.2185693 ],\n",
       "          [0.2185693 ]],\n",
       "\n",
       "         [[1.4207004 ],\n",
       "          [1.4207004 ],\n",
       "          [1.347844  ],\n",
       "          ...,\n",
       "          [0.40071037],\n",
       "          [0.36428216],\n",
       "          [0.36428216]],\n",
       "\n",
       "         ...,\n",
       "\n",
       "         [[1.0564183 ],\n",
       "          [1.0564183 ],\n",
       "          [1.0564183 ],\n",
       "          ...,\n",
       "          [0.10928465],\n",
       "          [0.10928465],\n",
       "          [0.10928465]],\n",
       "\n",
       "         [[1.0564183 ],\n",
       "          [1.0564183 ],\n",
       "          [1.0564183 ],\n",
       "          ...,\n",
       "          [0.18214108],\n",
       "          [0.14571287],\n",
       "          [0.10928465]],\n",
       "\n",
       "         [[1.0564183 ],\n",
       "          [1.0564183 ],\n",
       "          [1.0199901 ],\n",
       "          ...,\n",
       "          [0.07285643],\n",
       "          [0.10928465],\n",
       "          [0.10928465]]],\n",
       "\n",
       "\n",
       "        [[[1.4935569 ],\n",
       "          [1.5664133 ],\n",
       "          [1.1657029 ],\n",
       "          ...,\n",
       "          [0.40071037],\n",
       "          [0.36428216],\n",
       "          [0.29142573]],\n",
       "\n",
       "         [[1.6028415 ],\n",
       "          [1.6028415 ],\n",
       "          [1.2749876 ],\n",
       "          ...,\n",
       "          [0.40071037],\n",
       "          [0.36428216],\n",
       "          [0.29142573]],\n",
       "\n",
       "         [[1.4207004 ],\n",
       "          [1.4207004 ],\n",
       "          [1.3114158 ],\n",
       "          ...,\n",
       "          [0.29142573],\n",
       "          [0.2185693 ],\n",
       "          [0.2185693 ]],\n",
       "\n",
       "         ...,\n",
       "\n",
       "         [[1.0564183 ],\n",
       "          [1.0564183 ],\n",
       "          [1.0564183 ],\n",
       "          ...,\n",
       "          [0.10928465],\n",
       "          [0.10928465],\n",
       "          [0.10928465]],\n",
       "\n",
       "         [[1.0564183 ],\n",
       "          [1.0564183 ],\n",
       "          [1.0564183 ],\n",
       "          ...,\n",
       "          [0.18214108],\n",
       "          [0.14571287],\n",
       "          [0.10928465]],\n",
       "\n",
       "         [[1.0564183 ],\n",
       "          [1.0564183 ],\n",
       "          [1.0199901 ],\n",
       "          ...,\n",
       "          [0.10928465],\n",
       "          [0.10928465],\n",
       "          [0.10928465]]],\n",
       "\n",
       "\n",
       "        [[[1.5299851 ],\n",
       "          [1.5664133 ],\n",
       "          [1.2021312 ],\n",
       "          ...,\n",
       "          [0.40071037],\n",
       "          [0.36428216],\n",
       "          [0.29142573]],\n",
       "\n",
       "         [[1.5664133 ],\n",
       "          [1.6028415 ],\n",
       "          [1.2749876 ],\n",
       "          ...,\n",
       "          [0.40071037],\n",
       "          [0.36428216],\n",
       "          [0.29142573]],\n",
       "\n",
       "         [[1.4207004 ],\n",
       "          [1.5664133 ],\n",
       "          [1.4207004 ],\n",
       "          ...,\n",
       "          [0.29142573],\n",
       "          [0.29142573],\n",
       "          [0.29142573]],\n",
       "\n",
       "         ...,\n",
       "\n",
       "         [[1.0928465 ],\n",
       "          [1.0928465 ],\n",
       "          [1.0928465 ],\n",
       "          ...,\n",
       "          [0.03642822],\n",
       "          [0.03642822],\n",
       "          [0.03642822]],\n",
       "\n",
       "         [[1.0928465 ],\n",
       "          [1.0928465 ],\n",
       "          [1.0928465 ],\n",
       "          ...,\n",
       "          [0.14571287],\n",
       "          [0.10928465],\n",
       "          [0.07285643]],\n",
       "\n",
       "         [[1.0928465 ],\n",
       "          [1.0928465 ],\n",
       "          [1.0564183 ],\n",
       "          ...,\n",
       "          [0.10928465],\n",
       "          [0.10928465],\n",
       "          [0.14571287]]]]], dtype=float32)"
      ]
     },
     "execution_count": 26,
     "metadata": {},
     "output_type": "execute_result"
    }
   ],
   "source": [
    "val = sample.next(); val[0]"
   ]
  },
  {
   "cell_type": "code",
   "execution_count": 27,
   "id": "0976232e",
   "metadata": {},
   "outputs": [],
   "source": [
    "fv = (val[0][1].astype(np.uint8) * 255).squeeze()\n",
    "imageio.mimsave('./animation.gif', fv, duration=100)"
   ]
  },
  {
   "cell_type": "code",
   "execution_count": 28,
   "id": "a8190ebd",
   "metadata": {},
   "outputs": [
    {
     "data": {
      "text/plain": [
       "<matplotlib.image.AxesImage at 0x20b597228f0>"
      ]
     },
     "execution_count": 28,
     "metadata": {},
     "output_type": "execute_result"
    },
    {
     "data": {
      "image/png": "[encoded data removed]",
      "text/plain": [
       "<Figure size 432x288 with 1 Axes>"
      ]
     },
     "metadata": {
      "needs_background": "light"
     },
     "output_type": "display_data"
    }
   ],
   "source": [
    "# 0:videos, 0: 1st video out of the batch,  0: return the first frame in the video \n",
    "plt.imshow(val[0][0][35])"
   ]
  },
  {
   "cell_type": "code",
   "execution_count": 29,
   "id": "99ae1c3f",
   "metadata": {},
   "outputs": [
    {
     "data": {
      "text/plain": [
       "<tf.Tensor: shape=(), dtype=string, numpy=b'set green by p five soon'>"
      ]
     },
     "execution_count": 29,
     "metadata": {},
     "output_type": "execute_result"
    }
   ],
   "source": [
    "tf.strings.reduce_join([num_to_char(word) for word in val[1][0]])"
   ]
  },
  {
   "cell_type": "markdown",
   "id": "3cfaaf03",
   "metadata": {},
   "source": [
    "# Design deep neural network"
   ]
  },
  {
   "cell_type": "code",
   "execution_count": 30,
   "id": "42055fd0",
   "metadata": {},
   "outputs": [],
   "source": [
    "from tensorflow.keras.models import Sequential \n",
    "from tensorflow.keras.layers import Conv3D, LSTM, Dense, Dropout, Bidirectional, MaxPool3D, Activation, Reshape, SpatialDropout3D, BatchNormalization, TimeDistributed, Flatten\n",
    "from tensorflow.keras.optimizers import Adam\n",
    "from tensorflow.keras.callbacks import ModelCheckpoint, LearningRateScheduler"
   ]
  },
  {
   "cell_type": "code",
   "execution_count": 31,
   "id": "8b1d51f1",
   "metadata": {},
   "outputs": [],
   "source": [
    "model = Sequential()\n",
    "model.add(Conv3D(128, 3, input_shape=(75,46,140,1), padding='same'))\n",
    "model.add(Activation('relu'))\n",
    "model.add(MaxPool3D((1,2,2)))\n",
    "\n",
    "model.add(Conv3D(256, 3, padding='same'))\n",
    "model.add(Activation('relu'))\n",
    "model.add(MaxPool3D((1,2,2)))\n",
    "\n",
    "model.add(Conv3D(75, 3, padding='same'))\n",
    "model.add(Activation('relu'))\n",
    "model.add(MaxPool3D((1,2,2)))\n",
    "\n",
    "model.add(TimeDistributed(Flatten()))\n",
    "\n",
    "model.add(Bidirectional(LSTM(128, kernel_initializer='Orthogonal', return_sequences=True)))\n",
    "model.add(Dropout(.5))\n",
    "\n",
    "model.add(Bidirectional(LSTM(128, kernel_initializer='Orthogonal', return_sequences=True)))\n",
    "model.add(Dropout(.5))\n",
    "\n",
    "model.add(Dense(char_to_num.vocabulary_size()+1, kernel_initializer='he_normal', activation='softmax'))\n"
   ]
  },
  {
   "cell_type": "code",
   "execution_count": 32,
   "id": "41fcee4d",
   "metadata": {},
   "outputs": [
    {
     "name": "stdout",
     "output_type": "stream",
     "text": [
      "Model: \"sequential\"\n",
      "_________________________________________________________________\n",
      " Layer (type)                Output Shape              Param #   \n",
      "=================================================================\n",
      " conv3d (Conv3D)             (None, 75, 46, 140, 128)  3584      \n",
      "                                                                 \n",
      " activation (Activation)     (None, 75, 46, 140, 128)  0         \n",
      "                                                                 \n",
      " max_pooling3d (MaxPooling3D  (None, 75, 23, 70, 128)  0         \n",
      " )                                                               \n",
      "                                                                 \n",
      " conv3d_1 (Conv3D)           (None, 75, 23, 70, 256)   884992    \n",
      "                                                                 \n",
      " activation_1 (Activation)   (None, 75, 23, 70, 256)   0         \n",
      "                                                                 \n",
      " max_pooling3d_1 (MaxPooling  (None, 75, 11, 35, 256)  0         \n",
      " 3D)                                                             \n",
      "                                                                 \n",
      " conv3d_2 (Conv3D)           (None, 75, 11, 35, 75)    518475    \n",
      "                                                                 \n",
      " activation_2 (Activation)   (None, 75, 11, 35, 75)    0         \n",
      "                                                                 \n",
      " max_pooling3d_2 (MaxPooling  (None, 75, 5, 17, 75)    0         \n",
      " 3D)                                                             \n",
      "                                                                 \n",
      " time_distributed (TimeDistr  (None, 75, 6375)         0         \n",
      " ibuted)                                                         \n",
      "                                                                 \n",
      " bidirectional (Bidirectiona  (None, 75, 256)          6660096   \n",
      " l)                                                              \n",
      "                                                                 \n",
      " dropout (Dropout)           (None, 75, 256)           0         \n",
      "                                                                 \n",
      " bidirectional_1 (Bidirectio  (None, 75, 256)          394240    \n",
      " nal)                                                            \n",
      "                                                                 \n",
      " dropout_1 (Dropout)         (None, 75, 256)           0         \n",
      "                                                                 \n",
      " dense (Dense)               (None, 75, 41)            10537     \n",
      "                                                                 \n",
      "=================================================================\n",
      "Total params: 8,471,924\n",
      "Trainable params: 8,471,924\n",
      "Non-trainable params: 0\n",
      "_________________________________________________________________\n"
     ]
    }
   ],
   "source": [
    "model.summary()"
   ]
  },
  {
   "cell_type": "code",
   "execution_count": 33,
   "id": "c1a3c110",
   "metadata": {},
   "outputs": [
    {
     "name": "stdout",
     "output_type": "stream",
     "text": [
      "1/1 [==============================] - 6s 6s/step\n"
     ]
    }
   ],
   "source": [
    "yhat = model.predict(val[0])"
   ]
  },
  {
   "cell_type": "code",
   "execution_count": 34,
   "id": "f2bac2e5",
   "metadata": {},
   "outputs": [
    {
     "data": {
      "text/plain": [
       "<tf.Tensor: shape=(), dtype=string, numpy=b'n99999999999999999999999999999999999999999999999999999999999999999999999999'>"
      ]
     },
     "execution_count": 34,
     "metadata": {},
     "output_type": "execute_result"
    }
   ],
   "source": [
    "tf.strings.reduce_join([num_to_char(x) for x in tf.argmax(yhat[0],axis=1)])"
   ]
  },
  {
   "cell_type": "code",
   "execution_count": 35,
   "id": "2be6e848",
   "metadata": {},
   "outputs": [
    {
     "data": {
      "text/plain": [
       "<tf.Tensor: shape=(), dtype=string, numpy=b'n99999999999999999999999999999999999999999999999999999999999999999999999999'>"
      ]
     },
     "execution_count": 35,
     "metadata": {},
     "output_type": "execute_result"
    }
   ],
   "source": [
    "tf.strings.reduce_join([num_to_char(tf.argmax(x)) for x in yhat[0]])"
   ]
  },
  {
   "cell_type": "code",
   "execution_count": 36,
   "id": "f743b78d",
   "metadata": {},
   "outputs": [
    {
     "data": {
      "text/plain": [
       "(None, 75, 46, 140, 1)"
      ]
     },
     "execution_count": 36,
     "metadata": {},
     "output_type": "execute_result"
    }
   ],
   "source": [
    "model.input_shape"
   ]
  },
  {
   "cell_type": "code",
   "execution_count": 37,
   "id": "f01f13df",
   "metadata": {},
   "outputs": [
    {
     "data": {
      "text/plain": [
       "(None, 75, 41)"
      ]
     },
     "execution_count": 37,
     "metadata": {},
     "output_type": "execute_result"
    }
   ],
   "source": [
    "model.output_shape"
   ]
  },
  {
   "cell_type": "markdown",
   "id": "c2a24dba",
   "metadata": {},
   "source": [
    "# Training part"
   ]
  },
  {
   "cell_type": "code",
   "execution_count": 38,
   "id": "454174ad",
   "metadata": {},
   "outputs": [],
   "source": [
    "def scheduler(epoch, lr):\n",
    "    if epoch < 30:\n",
    "        return lr\n",
    "    else:\n",
    "        return lr * tf.math.exp(-0.1)"
   ]
  },
  {
   "cell_type": "code",
   "execution_count": 39,
   "id": "b38a22ee",
   "metadata": {},
   "outputs": [],
   "source": [
    "def CTCLoss(y_true, y_pred):\n",
    "    batch_len = tf.cast(tf.shape(y_true)[0], dtype=\"int64\")\n",
    "    input_length = tf.cast(tf.shape(y_pred)[1], dtype=\"int64\")\n",
    "    label_length = tf.cast(tf.shape(y_true)[1], dtype=\"int64\")\n",
    "\n",
    "    input_length = input_length * tf.ones(shape=(batch_len, 1), dtype=\"int64\")\n",
    "    label_length = label_length * tf.ones(shape=(batch_len, 1), dtype=\"int64\")\n",
    "\n",
    "    loss = tf.keras.backend.ctc_batch_cost(y_true, y_pred, input_length, label_length)\n",
    "    return loss"
   ]
  },
  {
   "cell_type": "code",
   "execution_count": 40,
   "id": "d298172b",
   "metadata": {},
   "outputs": [],
   "source": [
    "class ProduceExample(tf.keras.callbacks.Callback): \n",
    "    def __init__(self, dataset) -> None: \n",
    "        self.dataset = dataset.as_numpy_iterator()\n",
    "    \n",
    "    def on_epoch_end(self, epoch, logs=None) -> None:\n",
    "        data = self.dataset.next()\n",
    "        yhat = self.model.predict(data[0])\n",
    "        decoded = tf.keras.backend.ctc_decode(yhat, [75,75], greedy=False)[0][0].numpy()\n",
    "        for x in range(len(yhat)):           \n",
    "            print('Original:', tf.strings.reduce_join(num_to_char(data[1][x])).numpy().decode('utf-8'))\n",
    "            print('Prediction:', tf.strings.reduce_join(num_to_char(decoded[x])).numpy().decode('utf-8'))\n",
    "            print('~'*100)"
   ]
  },
  {
   "cell_type": "code",
   "execution_count": 41,
   "id": "e302e1b4",
   "metadata": {},
   "outputs": [],
   "source": [
    "model.compile(optimizer=Adam(learning_rate=0.0001), loss=CTCLoss)"
   ]
  },
  {
   "cell_type": "code",
   "execution_count": 42,
   "id": "d2432bab",
   "metadata": {},
   "outputs": [],
   "source": [
    "checkpoint_callback = ModelCheckpoint(os.path.join('models','checkpoint'), monitor='loss', save_weights_only=True) \n"
   ]
  },
  {
   "cell_type": "code",
   "execution_count": 43,
   "id": "b662bda4",
   "metadata": {},
   "outputs": [],
   "source": [
    "schedule_callback = LearningRateScheduler(scheduler)"
   ]
  },
  {
   "cell_type": "code",
   "execution_count": 44,
   "id": "5f37dbd3",
   "metadata": {},
   "outputs": [],
   "source": [
    "example_callback = ProduceExample(test)"
   ]
  },
  {
   "cell_type": "raw",
   "id": "804cc375",
   "metadata": {},
   "source": [
    "model.fit(train, validation_data=test, epochs=100, callbacks=[checkpoint_callback, schedule_callback, example_callback])"
   ]
  },
  {
   "cell_type": "markdown",
   "id": "0974f2cf",
   "metadata": {},
   "source": [
    "# make a prediction"
   ]
  },
  {
   "cell_type": "raw",
   "id": "e0745615",
   "metadata": {},
   "source": [
    "url = 'https://drive.google.com/uc?id=1vWscXs4Vt0a_1IH1-ct2TCgXAZT-N3_Y'\n",
    "output = 'checkpoints.zip'\n",
    "gdown.download(url, output, quiet=False)\n",
    "gdown.extractall('checkpoints.zip', 'models')"
   ]
  },
  {
   "cell_type": "code",
   "execution_count": 45,
   "id": "dfa342db",
   "metadata": {},
   "outputs": [
    {
     "data": {
      "text/plain": [
       "<tensorflow.python.checkpoint.checkpoint.CheckpointLoadStatus at 0x20b59b1e590>"
      ]
     },
     "execution_count": 45,
     "metadata": {},
     "output_type": "execute_result"
    }
   ],
   "source": [
    "model.load_weights('models/checkpoint')"
   ]
  },
  {
   "cell_type": "code",
   "execution_count": 46,
   "id": "df454448",
   "metadata": {},
   "outputs": [],
   "source": [
    "test_data = test.as_numpy_iterator()"
   ]
  },
  {
   "cell_type": "code",
   "execution_count": 47,
   "id": "e329de8d",
   "metadata": {},
   "outputs": [],
   "source": [
    "sample = test_data.next()"
   ]
  },
  {
   "cell_type": "code",
   "execution_count": 49,
   "id": "2cf5898c",
   "metadata": {},
   "outputs": [
    {
     "name": "stdout",
     "output_type": "stream",
     "text": [
      "1/1 [==============================] - 4s 4s/step\n"
     ]
    }
   ],
   "source": [
    "yhat = model.predict(sample[0])"
   ]
  },
  {
   "cell_type": "code",
   "execution_count": 50,
   "id": "29d646c4",
   "metadata": {},
   "outputs": [
    {
     "name": "stdout",
     "output_type": "stream",
     "text": [
      "~~~~~~~~~~~~~~~~~~~~~~~~~~~~~~~~~~~~~~~~~~~~~~~~~~~~~~~~~~~~~~~~~~~~~~~~~~~~~~~~~~~~~~~~~~~~~~~~~~~~ REAL TEXT\n"
     ]
    },
    {
     "data": {
      "text/plain": [
       "[<tf.Tensor: shape=(), dtype=string, numpy=b'bin blue at s three again'>,\n",
       " <tf.Tensor: shape=(), dtype=string, numpy=b'bin green at a seven soon'>]"
      ]
     },
     "execution_count": 50,
     "metadata": {},
     "output_type": "execute_result"
    }
   ],
   "source": [
    "print('~'*100, 'REAL TEXT')\n",
    "[tf.strings.reduce_join([num_to_char(word) for word in sentence]) for sentence in sample[1]]"
   ]
  },
  {
   "cell_type": "code",
   "execution_count": 51,
   "id": "9eb66745",
   "metadata": {},
   "outputs": [],
   "source": [
    "decoded = tf.keras.backend.ctc_decode(yhat, input_length=[75,75], greedy=True)[0][0].numpy()"
   ]
  },
  {
   "cell_type": "code",
   "execution_count": 52,
   "id": "0e656c56",
   "metadata": {},
   "outputs": [
    {
     "name": "stdout",
     "output_type": "stream",
     "text": [
      "~~~~~~~~~~~~~~~~~~~~~~~~~~~~~~~~~~~~~~~~~~~~~~~~~~~~~~~~~~~~~~~~~~~~~~~~~~~~~~~~~~~~~~~~~~~~~~~~~~~~ PREDICTIONS\n"
     ]
    },
    {
     "data": {
      "text/plain": [
       "[<tf.Tensor: shape=(), dtype=string, numpy=b'bin blue at s three again'>,\n",
       " <tf.Tensor: shape=(), dtype=string, numpy=b'bin green at a seven soon'>]"
      ]
     },
     "execution_count": 52,
     "metadata": {},
     "output_type": "execute_result"
    }
   ],
   "source": [
    "print('~'*100, 'PREDICTIONS')\n",
    "[tf.strings.reduce_join([num_to_char(word) for word in sentence]) for sentence in decoded]"
   ]
  },
  {
   "cell_type": "markdown",
   "id": "b211f1d5",
   "metadata": {},
   "source": [
    "# Test on a video"
   ]
  },
  {
   "cell_type": "code",
   "execution_count": 53,
   "id": "46cb24e4",
   "metadata": {},
   "outputs": [],
   "source": [
    "sample = load_data(tf.convert_to_tensor('.\\\\data\\\\s1\\\\bras9a.mpg'))"
   ]
  },
  {
   "cell_type": "code",
   "execution_count": 54,
   "id": "aff6bbfc",
   "metadata": {},
   "outputs": [
    {
     "name": "stdout",
     "output_type": "stream",
     "text": [
      "~~~~~~~~~~~~~~~~~~~~~~~~~~~~~~~~~~~~~~~~~~~~~~~~~~~~~~~~~~~~~~~~~~~~~~~~~~~~~~~~~~~~~~~~~~~~~~~~~~~~ REAL TEXT\n"
     ]
    },
    {
     "data": {
      "text/plain": [
       "[<tf.Tensor: shape=(), dtype=string, numpy=b'bin red at s nine again'>]"
      ]
     },
     "execution_count": 54,
     "metadata": {},
     "output_type": "execute_result"
    }
   ],
   "source": [
    "print('~'*100, 'REAL TEXT')\n",
    "[tf.strings.reduce_join([num_to_char(word) for word in sentence]) for sentence in [sample[1]]]"
   ]
  },
  {
   "cell_type": "code",
   "execution_count": 55,
   "id": "43c64f67",
   "metadata": {},
   "outputs": [
    {
     "name": "stdout",
     "output_type": "stream",
     "text": [
      "1/1 [==============================] - 1s 1s/step\n"
     ]
    }
   ],
   "source": [
    "yhat = model.predict(tf.expand_dims(sample[0], axis=0))"
   ]
  },
  {
   "cell_type": "code",
   "execution_count": 56,
   "id": "96584397",
   "metadata": {},
   "outputs": [],
   "source": [
    "decoded = tf.keras.backend.ctc_decode(yhat, input_length=[75], greedy=True)[0][0].numpy()"
   ]
  },
  {
   "cell_type": "code",
   "execution_count": 57,
   "id": "14bc0afb",
   "metadata": {},
   "outputs": [
    {
     "name": "stdout",
     "output_type": "stream",
     "text": [
      "~~~~~~~~~~~~~~~~~~~~~~~~~~~~~~~~~~~~~~~~~~~~~~~~~~~~~~~~~~~~~~~~~~~~~~~~~~~~~~~~~~~~~~~~~~~~~~~~~~~~ PREDICTIONS\n"
     ]
    },
    {
     "data": {
      "text/plain": [
       "[<tf.Tensor: shape=(), dtype=string, numpy=b'bin red at s nine again'>]"
      ]
     },
     "execution_count": 57,
     "metadata": {},
     "output_type": "execute_result"
    }
   ],
   "source": [
    "print('~'*100, 'PREDICTIONS')\n",
    "[tf.strings.reduce_join([num_to_char(word) for word in sentence]) for sentence in decoded]"
   ]
  },
  {
   "cell_type": "code",
   "execution_count": null,
   "id": "1cf80049",
   "metadata": {},
   "outputs": [],
   "source": []
  }
 ],
 "metadata": {
  "kernelspec": {
   "display_name": "Python 3 (ipykernel)",
   "language": "python",
   "name": "python3"
  },
  "language_info": {
   "codemirror_mode": {
    "name": "ipython",
    "version": 3
   },
   "file_extension": ".py",
   "mimetype": "text/x-python",
   "name": "python",
   "nbconvert_exporter": "python",
   "pygments_lexer": "ipython3",
   "version": "3.10.5"
  }
 },
 "nbformat": 4,
 "nbformat_minor": 5
}
